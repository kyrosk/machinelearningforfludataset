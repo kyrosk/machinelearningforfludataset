{
 "cells": [
  {
   "attachments": {},
   "cell_type": "markdown",
   "metadata": {},
   "source": [
    "Common work"
   ]
  },
  {
   "cell_type": "code",
   "execution_count": null,
   "metadata": {},
   "outputs": [],
   "source": [
    "import pandas as pd \n",
    "import numpy as np\n",
    "import matplotlib.pyplot as plt\n",
    "import seaborn as sns"
   ]
  },
  {
   "cell_type": "code",
   "execution_count": null,
   "metadata": {},
   "outputs": [],
   "source": [
    "features_df = pd.read_csv(\"training_set_features.csv\", index_col='respondent_id')\n",
    "labels_df = pd.read_csv(\"training_set_labels.csv\", index_col='respondent_id')\n",
    "features_df\n",
    "# labels_df"
   ]
  },
  {
   "cell_type": "code",
   "execution_count": null,
   "metadata": {},
   "outputs": [],
   "source": [
    "features_df.describe()"
   ]
  },
  {
   "cell_type": "code",
   "execution_count": null,
   "metadata": {},
   "outputs": [],
   "source": [
    "features_df.isnull().any()"
   ]
  },
  {
   "cell_type": "code",
   "execution_count": null,
   "metadata": {},
   "outputs": [],
   "source": [
    "features_df.loc[features_df['h1n1_concern'] == np.nan]"
   ]
  },
  {
   "cell_type": "code",
   "execution_count": null,
   "metadata": {},
   "outputs": [],
   "source": [
    "# %matplotlib qt\n",
    "# %matplotlib inline"
   ]
  },
  {
   "cell_type": "code",
   "execution_count": null,
   "metadata": {},
   "outputs": [],
   "source": [
    "fig, axs = plt.subplots(1, 2)\n",
    "sns.countplot(ax=axs[0], data=features_df, x='h1n1_knowledge').set(title='Knowledge of H1N1')\n",
    "# g.set(xticklabels=['No knowledge', 'Little knowledge', 'A lot of knowledge'])\n",
    "axs[0].set_xticklabels(['No knowledge', 'Little knowledge', 'A lot of knowledge'])\n",
    "# axs[0].suptitle('Knowledge of H1N1')\n",
    "sns.countplot(ax=axs[1], data=features_df, x='h1n1_concern').set(title='Concern about H1N1')\n",
    "axs[1].set_xticklabels(['Not at all concerned', 'Not very concerned', 'Somewhat concerned', 'Very Concerned'])\n",
    "# axs[1].suptitle('Concern about H1N1')\n",
    "plt.tight_layout()\n",
    "plt.show()"
   ]
  },
  {
   "cell_type": "code",
   "execution_count": null,
   "metadata": {},
   "outputs": [],
   "source": [
    "features_df[features_df.isna().any(axis=1)]"
   ]
  },
  {
   "cell_type": "code",
   "execution_count": null,
   "metadata": {},
   "outputs": [],
   "source": [
    "fig, axs = plt.subplots(1, 2)\n",
    "sns.countplot(ax=axs[0], data=features_df, x='opinion_h1n1_vacc_effective').set(title='Opinion on H1N1 Vaccine Effectiveness')\n",
    "# g.set(xticklabels=['No knowledge', 'Little knowledge', 'A lot of knowledge'])\n",
    "axs[0].set_xticklabels(['Not at all effective', 'Not very effective', 'Don\\'t Know', 'Somewhat effective', 'Very effective'])\n",
    "# axs[0].suptitle('Knowledge of H1N1')\n",
    "sns.countplot(ax=axs[1], data=features_df, x='opinion_h1n1_sick_from_vacc').set(title='Opinion on H1N1 Vaccine Symptoms')\n",
    "axs[1].set_xticklabels(['Not at all worried', 'Not very worried', 'Don\\'t Know', 'Somewhat worried', 'Very worried'])\n",
    "# axs[1].suptitle('Concern about H1N1')\n",
    "plt.tight_layout()\n",
    "plt.show()"
   ]
  },
  {
   "cell_type": "code",
   "execution_count": null,
   "metadata": {},
   "outputs": [],
   "source": [
    "from sklearn.metrics import roc_auc_score\n",
    "def my_custom_roc_auc_func(estimator, X, y=None):\n",
    "    y_score = np.transpose([y_pred[:, 1] for y_pred in estimator.predict_proba(X)])\n",
    "    return roc_auc_score(y, y_score, average='macro')"
   ]
  },
  {
   "cell_type": "code",
   "execution_count": null,
   "metadata": {},
   "outputs": [],
   "source": [
    "from sklearn.model_selection import cross_val_score\n",
    "def cross_validate_model(model, X, y):\n",
    "    scores = cross_val_score(model, X, y, cv=5, scoring=my_custom_roc_auc_func)\n",
    "    # print(\"Cross-validation scores:\", scores)\n",
    "    print(\"Mean AUC Score:\", scores.mean())"
   ]
  },
  {
   "attachments": {},
   "cell_type": "markdown",
   "metadata": {},
   "source": [
    "## Kyros Karayiannis' Approach"
   ]
  },
  {
   "attachments": {},
   "cell_type": "markdown",
   "metadata": {},
   "source": [
    "### Data Analysis"
   ]
  },
  {
   "cell_type": "code",
   "execution_count": null,
   "metadata": {},
   "outputs": [],
   "source": [
    "df_combined_kyros = features_df.join(labels_df)"
   ]
  },
  {
   "cell_type": "code",
   "execution_count": null,
   "metadata": {},
   "outputs": [],
   "source": [
    "df_combined_kyros"
   ]
  },
  {
   "cell_type": "code",
   "execution_count": null,
   "metadata": {},
   "outputs": [],
   "source": [
    "df_combined_kyros[['h1n1_knowledge', 'h1n1_vaccine']].corr(method='spearman')"
   ]
  },
  {
   "cell_type": "code",
   "execution_count": null,
   "metadata": {},
   "outputs": [],
   "source": [
    "df_combined_kyros[['opinion_h1n1_sick_from_vacc', 'opinion_h1n1_vacc_effective']].corr(method='spearman')"
   ]
  },
  {
   "cell_type": "code",
   "execution_count": null,
   "metadata": {},
   "outputs": [],
   "source": [
    "df_combined_kyros[['opinion_seas_sick_from_vacc', 'opinion_seas_vacc_effective']].corr(method='spearman')"
   ]
  },
  {
   "cell_type": "code",
   "execution_count": null,
   "metadata": {},
   "outputs": [],
   "source": [
    "df_combined_kyros[['chronic_med_condition', 'h1n1_vaccine']].corr(method='spearman')"
   ]
  },
  {
   "cell_type": "code",
   "execution_count": null,
   "metadata": {},
   "outputs": [],
   "source": [
    "df_combined_kyros[['chronic_med_condition', 'seasonal_vaccine']].corr(method='spearman')"
   ]
  },
  {
   "cell_type": "code",
   "execution_count": null,
   "metadata": {},
   "outputs": [],
   "source": [
    "cols = ['h1n1_knowledge', 'opinion_h1n1_sick_from_vacc', 'opinion_seas_sick_from_vacc', 'opinion_h1n1_vacc_effective', 'opinion_seas_vacc_effective', 'chronic_med_condition']\n",
    "df_combined_kyros[cols + ['h1n1_vaccine','seasonal_vaccine']].corr(method='spearman')"
   ]
  },
  {
   "cell_type": "code",
   "execution_count": null,
   "metadata": {},
   "outputs": [],
   "source": [
    "sns.heatmap(df_combined_kyros[cols + ['h1n1_vaccine','seasonal_vaccine']].corr(method='spearman'), annot=True)"
   ]
  },
  {
   "attachments": {},
   "cell_type": "markdown",
   "metadata": {},
   "source": [
    "Above we saw some code to collect colleration among some columns to help us with our observation\n",
    "\n"
   ]
  },
  {
   "cell_type": "code",
   "execution_count": null,
   "metadata": {},
   "outputs": [],
   "source": [
    "proportions_h1n1_facemask = df_combined_kyros.groupby('behavioral_face_mask')['h1n1_vaccine'].value_counts(normalize=True).rename('proportion').reset_index()\n",
    "proportions_seasonal_facemask = df_combined_kyros.groupby('behavioral_face_mask')['seasonal_vaccine'].value_counts(normalize=True).rename('proportion').reset_index()\n",
    "fig, axs = plt.subplots(2)\n",
    "fig.tight_layout()\n",
    "sns.barplot(x='behavioral_face_mask', y='proportion', hue='h1n1_vaccine', data=proportions_h1n1_facemask, ax=axs[0])\n",
    "sns.barplot(x='behavioral_face_mask', y='proportion', hue='seasonal_vaccine', data=proportions_seasonal_facemask, ax=axs[1])"
   ]
  },
  {
   "cell_type": "code",
   "execution_count": null,
   "metadata": {},
   "outputs": [],
   "source": [
    "proportions_h1n1_washhands = df_combined_kyros.groupby('behavioral_wash_hands')['h1n1_vaccine'].value_counts(normalize=True).rename('proportion').reset_index()\n",
    "proportions_seasonal_washhands = df_combined_kyros.groupby('behavioral_wash_hands')['seasonal_vaccine'].value_counts(normalize=True).rename('proportion').reset_index()\n",
    "fig, axs = plt.subplots(2)\n",
    "fig.tight_layout()\n",
    "sns.barplot(x='behavioral_wash_hands', y='proportion', hue='h1n1_vaccine', data=proportions_h1n1_washhands, ax=axs[0])\n",
    "sns.barplot(x='behavioral_wash_hands', y='proportion', hue='seasonal_vaccine', data=proportions_seasonal_washhands, ax=axs[1])"
   ]
  },
  {
   "cell_type": "code",
   "execution_count": null,
   "metadata": {},
   "outputs": [],
   "source": [
    "proportions_h1n1_agegroup = df_combined_kyros.groupby('age_group')['h1n1_vaccine'].value_counts(normalize=True).rename('proportion').reset_index()\n",
    "proportions_seasonal_agegroup = df_combined_kyros.groupby('age_group')['seasonal_vaccine'].value_counts(normalize=True).rename('proportion').reset_index()\n",
    "fig, axs = plt.subplots(2)\n",
    "fig.tight_layout()\n",
    "sns.barplot(x='age_group', y='proportion', hue='h1n1_vaccine', data=proportions_h1n1_agegroup, ax=axs[0])\n",
    "sns.barplot(x='age_group', y='proportion', hue='seasonal_vaccine', data=proportions_seasonal_agegroup, ax=axs[1])"
   ]
  },
  {
   "cell_type": "code",
   "execution_count": null,
   "metadata": {},
   "outputs": [],
   "source": [
    "proportions_h1n1_race = df_combined_kyros.groupby('race')['h1n1_vaccine'].value_counts(normalize=True).rename('proportion').reset_index()\n",
    "proportions_seasonal_race = df_combined_kyros.groupby('race')['seasonal_vaccine'].value_counts(normalize=True).rename('proportion').reset_index()\n",
    "fig, axs = plt.subplots(2)\n",
    "fig.tight_layout()\n",
    "sns.barplot(x='race', y='proportion', hue='h1n1_vaccine', data=proportions_h1n1_race, ax=axs[0])\n",
    "sns.barplot(x='race', y='proportion', hue='seasonal_vaccine', data=proportions_seasonal_race, ax=axs[1])"
   ]
  },
  {
   "cell_type": "code",
   "execution_count": null,
   "metadata": {},
   "outputs": [],
   "source": [
    "proportions_h1n1_education = df_combined_kyros.groupby('education')['h1n1_vaccine'].value_counts(normalize=True).rename('proportion').reset_index()\n",
    "proportions_seasonal_education = df_combined_kyros.groupby('education')['seasonal_vaccine'].value_counts(normalize=True).rename('proportion').reset_index()\n",
    "fig, axs = plt.subplots(2)\n",
    "fig.tight_layout()\n",
    "sns.barplot(x='education', y='proportion', hue='h1n1_vaccine', data=proportions_h1n1_education, ax=axs[0])\n",
    "sns.barplot(x='education', y='proportion', hue='seasonal_vaccine', data=proportions_seasonal_education, ax=axs[1])"
   ]
  },
  {
   "cell_type": "code",
   "execution_count": null,
   "metadata": {},
   "outputs": [],
   "source": [
    "proportions_h1n1_sex = df_combined_kyros.groupby('sex')['h1n1_vaccine'].value_counts(normalize=True).rename('proportion').reset_index()\n",
    "proportions_seasonal_sex = df_combined_kyros.groupby('sex')['seasonal_vaccine'].value_counts(normalize=True).rename('proportion').reset_index()\n",
    "fig, axs = plt.subplots(2)\n",
    "fig.tight_layout()\n",
    "sns.barplot(x='sex', y='proportion', hue='h1n1_vaccine', data=proportions_h1n1_sex, ax=axs[0])\n",
    "sns.barplot(x='sex', y='proportion', hue='seasonal_vaccine', data=proportions_seasonal_sex, ax=axs[1])"
   ]
  },
  {
   "attachments": {},
   "cell_type": "markdown",
   "metadata": {},
   "source": [
    "We plot some graphs to show the relationship of some columns with the vaccines uptakes"
   ]
  },
  {
   "attachments": {},
   "cell_type": "markdown",
   "metadata": {},
   "source": [
    "### Pre-Processing - Kyros"
   ]
  },
  {
   "cell_type": "code",
   "execution_count": null,
   "metadata": {},
   "outputs": [],
   "source": [
    "df_combined_kyros[df_combined_kyros.isna().any(axis=1)]"
   ]
  },
  {
   "cell_type": "code",
   "execution_count": null,
   "metadata": {},
   "outputs": [],
   "source": [
    "for column in df_combined_kyros.columns.values.tolist():\n",
    "    print(column)\n",
    "    print (df_combined_kyros[column].unique())\n",
    "    print(\"\")"
   ]
  },
  {
   "cell_type": "code",
   "execution_count": null,
   "metadata": {},
   "outputs": [],
   "source": [
    "df_combined_kyros = df_combined_kyros.drop(['employment_occupation','employment_industry','health_insurance'],axis=1)\n",
    "df_combined_kyros = df_combined_kyros.dropna()\n",
    "df_combined_kyros"
   ]
  },
  {
   "cell_type": "code",
   "execution_count": null,
   "metadata": {},
   "outputs": [],
   "source": [
    "df_combined_kyros = df_combined_kyros.drop_duplicates()\n",
    "print(df_combined_kyros.shape)\n",
    "df_combined_kyros"
   ]
  },
  {
   "cell_type": "code",
   "execution_count": null,
   "metadata": {},
   "outputs": [],
   "source": [
    "missingdata = df_combined_kyros.notnull()\n",
    "for column in missingdata.columns.values.tolist():\n",
    "    print(column)\n",
    "    print (missingdata[column].value_counts())\n",
    "    print(\"\")"
   ]
  },
  {
   "attachments": {},
   "cell_type": "markdown",
   "metadata": {},
   "source": [
    "We drop the NaN values , drop any duplicates and check if our dataset is clean\n"
   ]
  },
  {
   "cell_type": "code",
   "execution_count": null,
   "metadata": {},
   "outputs": [],
   "source": [
    "from sklearn.preprocessing import LabelEncoder\n",
    "le=LabelEncoder()\n",
    "df_combined_kyros['age_group'] = le.fit_transform(df_combined_kyros['age_group'])\n",
    "df_combined_kyros['race'] = le.fit_transform(df_combined_kyros['race'])\n",
    "df_combined_kyros['sex'] = le.fit_transform(df_combined_kyros['sex'])\n",
    "df_combined_kyros['education'] = le.fit_transform(df_combined_kyros['education'])\n",
    "df_combined_kyros['income_poverty'] = le.fit_transform(df_combined_kyros['income_poverty'])\n",
    "df_combined_kyros['marital_status'] = le.fit_transform(df_combined_kyros['marital_status'])\n",
    "df_combined_kyros['rent_or_own'] = le.fit_transform(df_combined_kyros['rent_or_own'])\n",
    "df_combined_kyros['employment_status'] = le.fit_transform(df_combined_kyros['employment_status'])\n",
    "df_combined_kyros['hhs_geo_region'] = le.fit_transform(df_combined_kyros['hhs_geo_region'])\n",
    "df_combined_kyros['census_msa'] = le.fit_transform(df_combined_kyros['census_msa'])"
   ]
  },
  {
   "cell_type": "code",
   "execution_count": null,
   "metadata": {},
   "outputs": [],
   "source": [
    "for column in df_combined_kyros.columns.values.tolist():\n",
    "    print(column)\n",
    "    print (df_combined_kyros[column].unique())\n",
    "    print(\"\")"
   ]
  },
  {
   "attachments": {},
   "cell_type": "markdown",
   "metadata": {},
   "source": [
    "Encoding any non-categorical values"
   ]
  },
  {
   "cell_type": "code",
   "execution_count": null,
   "metadata": {},
   "outputs": [],
   "source": [
    "from sklearn.model_selection import train_test_split\n",
    "\n",
    "X_kyros = df_combined_kyros.drop(columns=['h1n1_vaccine', 'seasonal_vaccine'])\n",
    "y_kyros = df_combined_kyros[['h1n1_vaccine', 'seasonal_vaccine']]\n",
    "\n",
    "from sklearn.feature_selection import SelectKBest, chi2\n",
    "\n",
    "k = 15\n",
    "skb = SelectKBest(score_func=chi2, k=k)\n",
    "\n",
    "X_k_best = skb.fit_transform(X_kyros, y_kyros)\n",
    "k_best_indices = skb.get_support(indices=True)\n",
    "k_best_features = X_kyros.columns[k_best_indices].tolist()\n",
    "k_best_features"
   ]
  },
  {
   "cell_type": "code",
   "execution_count": null,
   "metadata": {},
   "outputs": [],
   "source": [
    "X_train, X_test, y_train, y_test = train_test_split(X_k_best, y_kyros, test_size=0.3, random_state=42, stratify=y_kyros)\n",
    "X_train.shape, X_test.shape, y_train.shape, y_test.shape"
   ]
  },
  {
   "attachments": {},
   "cell_type": "markdown",
   "metadata": {},
   "source": [
    "Performing feature selection and choosing our test and train dataset"
   ]
  },
  {
   "attachments": {},
   "cell_type": "markdown",
   "metadata": {},
   "source": [
    "### Models"
   ]
  },
  {
   "cell_type": "code",
   "execution_count": null,
   "metadata": {},
   "outputs": [],
   "source": [
    "from sklearn.model_selection import GridSearchCV\n",
    "from sklearn.metrics import roc_auc_score\n",
    "from sklearn.metrics import multilabel_confusion_matrix, accuracy_score, f1_score"
   ]
  },
  {
   "attachments": {},
   "cell_type": "markdown",
   "metadata": {},
   "source": [
    "#### Decision Tree"
   ]
  },
  {
   "cell_type": "code",
   "execution_count": null,
   "metadata": {},
   "outputs": [],
   "source": [
    "from sklearn import tree\n",
    "from sklearn.tree import DecisionTreeClassifier\n",
    "\n",
    "param_grid = {\n",
    "    'criterion': ['gini','entropy'],\n",
    "    'max_depth' : range(1,10),\n",
    "    'min_samples_split':[3,8,10],\n",
    "    'min_samples_leaf':[1,3,5]\n",
    "}\n",
    "\n",
    "dt_model = DecisionTreeClassifier()\n",
    "\n",
    "grid_search = GridSearchCV(dt_model, param_grid=param_grid, cv=10, scoring=my_custom_roc_auc_func)\n",
    "grid_search.fit(X_train, y_train)\n",
    "\n",
    "best_estimator = grid_search.best_estimator_\n",
    "best_parameters = grid_search.best_params_\n",
    "\n",
    "y_predicted = best_estimator.predict_proba(X_test)\n",
    "\n",
    "\n",
    "y_score = np.transpose([y_pred[:, 1] for y_pred in best_estimator.predict_proba(X_test)])\n",
    "y_auc = roc_auc_score(y_test, y_score, average='macro')\n",
    "\n",
    "print(\"Best Parameters:\", best_parameters)\n",
    "print(\"AUC Scores:\", y_auc)"
   ]
  },
  {
   "cell_type": "code",
   "execution_count": null,
   "metadata": {},
   "outputs": [],
   "source": [
    "dt_model =  tree.DecisionTreeClassifier(**best_parameters)\n",
    "dt_model.fit(X_train,y_train)\n",
    "print(\"Decision tree Model AUC on our test set\", my_custom_roc_auc_func(dt_model,X_test,y_test))"
   ]
  },
  {
   "cell_type": "code",
   "execution_count": null,
   "metadata": {},
   "outputs": [],
   "source": [
    "from sklearn.metrics import multilabel_confusion_matrix, accuracy_score, f1_score\n",
    "predicted_dt = dt_model.predict(X_test)\n",
    "\n",
    "print(multilabel_confusion_matrix(y_test, predicted_dt))\n",
    "print(accuracy_score(y_test, predicted_dt))\n",
    "print(f1_score(y_test, predicted_dt, average='micro'))"
   ]
  },
  {
   "cell_type": "code",
   "execution_count": null,
   "metadata": {},
   "outputs": [],
   "source": [
    "from sklearn.metrics import roc_curve, auc\n",
    "\n",
    "predict_prob = dt_model.predict_proba(X_test)\n",
    "\n",
    "y_score = np.transpose([y_pred[:, 1] for y_pred in dt_model.predict_proba(X_test)])\n",
    "pred = roc_auc_score(y_test, y_score, average=None)\n",
    "pred"
   ]
  },
  {
   "cell_type": "code",
   "execution_count": null,
   "metadata": {},
   "outputs": [],
   "source": [
    "cross_validate_model(dt_model, X_train, y_train)"
   ]
  },
  {
   "cell_type": "code",
   "execution_count": null,
   "metadata": {},
   "outputs": [],
   "source": [
    "fig, ax = plt.subplots(1, 2, figsize=(10, 5))\n",
    "fig.suptitle('Decision Tree Receiver Operating Characteristic Curves')\n",
    "fpr, tpr, thresholds = roc_curve(y_test['h1n1_vaccine'], y_score[:, 0])\n",
    "ax[0].plot(fpr, tpr, label='H1N1 (AUC = {:.4f})'.format(pred[0]))\n",
    "ax[0].plot([0, 1], [0, 1], linestyle='--')\n",
    "ax[0].set_ylabel('True Positive Rate')\n",
    "ax[0].set_xlabel('False Positive Rate')\n",
    "ax[0].set_title('H1N1')\n",
    "ax[0].legend(loc='lower right')\n",
    "\n",
    "fpr, tpr, thresholds = roc_curve(y_test['seasonal_vaccine'], y_score[:, 1])\n",
    "ax[1].plot(fpr, tpr, label='Seasonal (AUC = {:.4f})'.format(pred[1]))\n",
    "ax[1].plot([0, 1], [0, 1], linestyle='--')\n",
    "ax[1].set_ylabel('True Positive Rate')\n",
    "ax[1].set_xlabel('False Positive Rate')\n",
    "ax[1].set_title('Seasonal')\n",
    "ax[1].legend(loc='lower right')"
   ]
  },
  {
   "attachments": {},
   "cell_type": "markdown",
   "metadata": {},
   "source": [
    "In the above code , briefly we trained one decision tree model , performed hyperparameter tuning and presented the ROC-AUC graphs for both vaccines"
   ]
  },
  {
   "attachments": {},
   "cell_type": "markdown",
   "metadata": {},
   "source": [
    "#### Artificial Neural Network"
   ]
  },
  {
   "cell_type": "code",
   "execution_count": null,
   "metadata": {},
   "outputs": [],
   "source": [
    "from sklearn.neural_network import MLPClassifier\n",
    "\n",
    "mlp_model = MLPClassifier(activation='logistic')\n",
    "\n",
    "mlp_model.fit(X_train, y_train)\n",
    "\n",
    "predicted_mlp = mlp_model.predict(X_test)\n",
    "\n",
    "print(multilabel_confusion_matrix(y_test, predicted_mlp))\n",
    "print(accuracy_score(y_test, predicted_mlp))\n",
    "print(f1_score(y_test, predicted_mlp, average='micro'))"
   ]
  },
  {
   "cell_type": "code",
   "execution_count": null,
   "metadata": {},
   "outputs": [],
   "source": [
    "from sklearn.model_selection import GridSearchCV\n",
    "param_grid = {\n",
    "    'hidden_layer_sizes': [(10,), (20,), (30,)],\n",
    "    'activation': ['relu'],\n",
    "    'alpha': [0.0001, 0.001, 0.01],\n",
    "    'solver': ['adam'],\n",
    "    'max_iter': [1000, 1500, 2000, 2500],\n",
    "    'random_state': [42]\n",
    "}\n",
    "\n",
    "mlp = MLPClassifier()\n",
    "grid_search_mlp = GridSearchCV(mlp, param_grid=param_grid, cv=5, scoring='roc_auc')\n",
    "grid_search_mlp.fit(X_train, y_train)\n",
    "\n",
    "best_estimator_mlp = grid_search_mlp.best_estimator_\n",
    "best_parameters_mlp = grid_search_mlp.best_params_\n",
    "\n",
    "y_pred_proba_mlp = best_estimator_mlp.predict_proba(X_test)\n",
    "\n",
    "auc_scores_mlp = []\n",
    "for i in range(y_test.shape[1]):\n",
    "    auc = roc_auc_score(y_test.iloc[:, i], y_pred_proba_mlp[:, i])\n",
    "    auc_scores_mlp.append(auc)\n",
    "\n",
    "average_auc = sum(auc_scores_mlp) / len(auc_scores_mlp)\n",
    "\n",
    "print(\"Best Parameters:\", best_parameters_mlp)\n",
    "print(\"AUC Score:\", average_auc)"
   ]
  },
  {
   "cell_type": "code",
   "execution_count": null,
   "metadata": {},
   "outputs": [],
   "source": [
    "mlp_model = MLPClassifier(hidden_layer_sizes=(30,), activation='relu', solver='adam', alpha=0.01, max_iter=1000, random_state=42)\n",
    "\n",
    "mlp_model.fit(X_train, y_train)\n",
    "\n",
    "predicted_mlp = mlp_model.predict(X_test)\n",
    "\n",
    "print(multilabel_confusion_matrix(y_test, predicted_mlp))\n",
    "print(accuracy_score(y_test, predicted_mlp))\n",
    "print(f1_score(y_test, predicted_mlp, average='micro'))"
   ]
  },
  {
   "cell_type": "code",
   "execution_count": null,
   "metadata": {},
   "outputs": [],
   "source": [
    "auc_scores_mlp = []\n",
    "for i in range(y_test.shape[1]):\n",
    "    auc = roc_auc_score(y_test.iloc[:, i], y_pred_proba_mlp[:, i])\n",
    "    auc_scores_mlp.append(auc)\n",
    "\n",
    "average_auc = sum(auc_scores_mlp) / len(auc_scores_mlp)\n",
    "auc_scores_mlp, average_auc"
   ]
  },
  {
   "cell_type": "code",
   "execution_count": null,
   "metadata": {},
   "outputs": [],
   "source": [
    "scores_cv_mlp = cross_val_score(mlp_model, X_train, y_train, cv=5, scoring='roc_auc')\n",
    "print(\"Mean AUC Score:\", scores_cv_mlp.mean())"
   ]
  },
  {
   "cell_type": "code",
   "execution_count": null,
   "metadata": {},
   "outputs": [],
   "source": [
    "fig, ax = plt.subplots(1, 2, figsize=(10, 5))\n",
    "fpr, tpr, thresholds = roc_curve(y_test['h1n1_vaccine'], y_score[:, 0])\n",
    "fig.suptitle('Artificial Neural Network Receiver Operating Characteristic Curves')\n",
    "ax[0].plot(fpr, tpr, label='H1N1 (AUC = {:.4f})'.format(auc_scores_mlp[0]))\n",
    "ax[0].plot([0, 1], [0, 1], linestyle='--')\n",
    "ax[0].set_ylabel('True Positive Rate')\n",
    "ax[0].set_xlabel('False Positive Rate')\n",
    "ax[0].set_title('H1N1')\n",
    "ax[0].legend(loc='lower right')\n",
    "\n",
    "fpr, tpr, thresholds = roc_curve(y_test['seasonal_vaccine'], y_score[:, 1])\n",
    "ax[1].plot(fpr, tpr, label='Seasonal (AUC = {:.4f})'.format(auc_scores_mlp[1]))\n",
    "ax[1].plot([0, 1], [0, 1], linestyle='--')\n",
    "ax[1].set_ylabel('True Positive Rate')\n",
    "ax[1].set_xlabel('False Positive Rate')\n",
    "ax[1].set_title('Seasonal')\n",
    "ax[1].legend(loc='lower right')"
   ]
  },
  {
   "attachments": {},
   "cell_type": "markdown",
   "metadata": {},
   "source": [
    "Trained a ANN model, again performed hyperparameter tuning and outputed the mean AUC score. Lastly we plotted the ROC-AUC scores for both the vaccines"
   ]
  },
  {
   "attachments": {},
   "cell_type": "markdown",
   "metadata": {},
   "source": [
    "## Alexandros Michaelides' Approach"
   ]
  },
  {
   "attachments": {},
   "cell_type": "markdown",
   "metadata": {},
   "source": [
    "### Data Analysis"
   ]
  },
  {
   "cell_type": "code",
   "execution_count": null,
   "metadata": {},
   "outputs": [],
   "source": [
    "features_df_alex = features_df.copy()\n",
    "labels_df_alex = labels_df.copy()\n",
    "labels_df_alex"
   ]
  },
  {
   "cell_type": "code",
   "execution_count": null,
   "metadata": {},
   "outputs": [],
   "source": [
    "df_combined_alex = features_df_alex.join(labels_df_alex)\n",
    "df_combined_alex[['h1n1_concern', 'h1n1_vaccine']].corr(method='spearman')"
   ]
  },
  {
   "cell_type": "code",
   "execution_count": null,
   "metadata": {},
   "outputs": [],
   "source": [
    "df_combined_alex[['opinion_h1n1_vacc_effective', 'h1n1_vaccine']].corr(method='spearman')"
   ]
  },
  {
   "cell_type": "code",
   "execution_count": null,
   "metadata": {},
   "outputs": [],
   "source": [
    "df_combined_alex[['opinion_seas_vacc_effective', 'seasonal_vaccine']].corr(method='spearman')"
   ]
  },
  {
   "cell_type": "code",
   "execution_count": null,
   "metadata": {},
   "outputs": [],
   "source": [
    "behavioural_cols = ['behavioral_antiviral_meds', 'behavioral_avoidance', 'behavioral_face_mask', 'behavioral_wash_hands', 'behavioral_large_gatherings', 'behavioral_outside_home', 'behavioral_touch_face']\n",
    "df_combined_alex[behavioural_cols + ['h1n1_vaccine','seasonal_vaccine']].corr(method='spearman')"
   ]
  },
  {
   "cell_type": "code",
   "execution_count": null,
   "metadata": {},
   "outputs": [],
   "source": [
    "sns.heatmap(df_combined_alex[behavioural_cols + ['h1n1_vaccine','seasonal_vaccine']].corr(method='spearman'), annot=True)"
   ]
  },
  {
   "attachments": {},
   "cell_type": "markdown",
   "metadata": {},
   "source": [
    "Performed some correlations with a relevant heatmap to help us further with the report"
   ]
  },
  {
   "cell_type": "code",
   "execution_count": null,
   "metadata": {},
   "outputs": [],
   "source": [
    "proportions_h1n1_race = df_combined_alex.groupby('race')['h1n1_vaccine'].value_counts(normalize=True).rename('proportion').reset_index()\n",
    "proportions_seasonal_race = df_combined_alex.groupby('race')['seasonal_vaccine'].value_counts(normalize=True).rename('proportion').reset_index()\n",
    "fig, axs = plt.subplots(2)\n",
    "fig.tight_layout()\n",
    "sns.barplot(x='race', y='proportion', hue='h1n1_vaccine', data=proportions_h1n1_race, ax=axs[0])\n",
    "sns.barplot(x='race', y='proportion', hue='seasonal_vaccine', data=proportions_seasonal_race, ax=axs[1])"
   ]
  },
  {
   "cell_type": "code",
   "execution_count": null,
   "metadata": {},
   "outputs": [],
   "source": [
    "labels_df_alex['h1n1_vaccine'].value_counts(), labels_df_alex['seasonal_vaccine'].value_counts()"
   ]
  },
  {
   "cell_type": "code",
   "execution_count": null,
   "metadata": {},
   "outputs": [],
   "source": [
    "# df_combined_alex['employment_occupation'].isnull().value_counts()"
   ]
  },
  {
   "cell_type": "code",
   "execution_count": null,
   "metadata": {},
   "outputs": [],
   "source": [
    "proportions_h1n1_large_gatherings = df_combined_alex.groupby('behavioral_large_gatherings')['h1n1_vaccine'].value_counts(normalize=True).rename('proportion').reset_index()\n",
    "proportions_seasonal_large_gatherings = df_combined_alex.groupby('behavioral_large_gatherings')['seasonal_vaccine'].value_counts(normalize=True).rename('proportion').reset_index()\n",
    "fig, axs = plt.subplots(2)\n",
    "fig.tight_layout()\n",
    "sns.barplot(x='behavioral_large_gatherings', y='proportion', hue='h1n1_vaccine', data=proportions_h1n1_large_gatherings, ax=axs[0])\n",
    "sns.barplot(x='behavioral_large_gatherings', y='proportion', hue='seasonal_vaccine', data=proportions_seasonal_large_gatherings, ax=axs[1])"
   ]
  },
  {
   "cell_type": "code",
   "execution_count": null,
   "metadata": {},
   "outputs": [],
   "source": [
    "proportions_h1n1_touch_face = df_combined_alex.groupby('behavioral_touch_face')['h1n1_vaccine'].value_counts(normalize=True).rename('proportion').reset_index()\n",
    "proportions_seasonal_touch_face = df_combined_alex.groupby('behavioral_touch_face')['seasonal_vaccine'].value_counts(normalize=True).rename('proportion').reset_index()\n",
    "fig, axs = plt.subplots(2)\n",
    "fig.tight_layout()\n",
    "sns.barplot(x='behavioral_touch_face', y='proportion', hue='h1n1_vaccine', data=proportions_h1n1_touch_face, ax=axs[0])\n",
    "sns.barplot(x='behavioral_touch_face', y='proportion', hue='seasonal_vaccine', data=proportions_seasonal_touch_face, ax=axs[1])"
   ]
  },
  {
   "cell_type": "code",
   "execution_count": null,
   "metadata": {},
   "outputs": [],
   "source": [
    "proportions_h1n1_hh_children = df_combined_alex.groupby('household_children')['h1n1_vaccine'].value_counts(normalize=True).rename('proportion').reset_index()\n",
    "proportions_seasonal_hh_children = df_combined_alex.groupby('household_children')['seasonal_vaccine'].value_counts(normalize=True).rename('proportion').reset_index()\n",
    "fig, axs = plt.subplots(2)\n",
    "fig.tight_layout()\n",
    "sns.barplot(x='household_children', y='proportion', hue='h1n1_vaccine', data=proportions_h1n1_hh_children, ax=axs[0])\n",
    "sns.barplot(x='household_children', y='proportion', hue='seasonal_vaccine', data=proportions_seasonal_hh_children, ax=axs[1])"
   ]
  },
  {
   "cell_type": "code",
   "execution_count": null,
   "metadata": {},
   "outputs": [],
   "source": [
    "proportions_h1n1_hh_adults = df_combined_alex.groupby('household_adults')['h1n1_vaccine'].value_counts(normalize=True).rename('proportion').reset_index()\n",
    "proportions_seasonal_hh_adults = df_combined_alex.groupby('household_adults')['seasonal_vaccine'].value_counts(normalize=True).rename('proportion').reset_index()\n",
    "fig, axs = plt.subplots(2)\n",
    "fig.tight_layout()\n",
    "sns.barplot(x='household_adults', y='proportion', hue='h1n1_vaccine', data=proportions_h1n1_hh_adults, ax=axs[0])\n",
    "sns.barplot(x='household_adults', y='proportion', hue='seasonal_vaccine', data=proportions_seasonal_hh_adults, ax=axs[1])"
   ]
  },
  {
   "attachments": {},
   "cell_type": "markdown",
   "metadata": {},
   "source": [
    "Plotted some barplots to show the relationship and compare different columns with both vaccine uptakes"
   ]
  },
  {
   "attachments": {},
   "cell_type": "markdown",
   "metadata": {},
   "source": [
    "### Pre-Processing"
   ]
  },
  {
   "cell_type": "code",
   "execution_count": null,
   "metadata": {},
   "outputs": [],
   "source": [
    "from sklearn.impute import SimpleImputer\n",
    "imputer = SimpleImputer(strategy='most_frequent')\n",
    "\n",
    "df_combined_imputed = pd.DataFrame(imputer.fit_transform(df_combined_alex), columns=df_combined_alex.columns)\n",
    "df_combined_imputed.isnull().any()"
   ]
  },
  {
   "cell_type": "code",
   "execution_count": null,
   "metadata": {},
   "outputs": [],
   "source": [
    "for column in df_combined_imputed.columns:\n",
    "    print(column + \": \" + str(df_combined_imputed[column].unique()))"
   ]
  },
  {
   "cell_type": "code",
   "execution_count": null,
   "metadata": {},
   "outputs": [],
   "source": [
    "from sklearn.preprocessing import OneHotEncoder\n",
    "oh_encoder = OneHotEncoder()\n",
    "\n",
    "cols = ['age_group', 'education', 'race', 'sex', 'income_poverty', 'marital_status', 'rent_or_own', 'employment_status', 'hhs_geo_region', 'census_msa', 'employment_industry', 'employment_occupation']\n",
    "df_combined_encoded = oh_encoder.fit_transform(df_combined_imputed[cols]).toarray()\n",
    "df_combined_encoded = pd.DataFrame(df_combined_encoded, columns=oh_encoder.get_feature_names_out(cols))\n",
    "df_combined_encoded = pd.concat([df_combined_imputed.drop(columns=cols), df_combined_encoded], axis=1)\n",
    "df_combined_encoded"
   ]
  },
  {
   "cell_type": "code",
   "execution_count": null,
   "metadata": {},
   "outputs": [],
   "source": [
    "for column in df_combined_encoded.columns:\n",
    "    df_combined_encoded[column] = df_combined_encoded[column].astype(int)"
   ]
  },
  {
   "attachments": {},
   "cell_type": "markdown",
   "metadata": {},
   "source": [
    "Using simple imputer to fill any NaN values with mode and one hot encoder to encode any non-categorical values"
   ]
  },
  {
   "cell_type": "code",
   "execution_count": null,
   "metadata": {},
   "outputs": [],
   "source": [
    "from sklearn.model_selection import train_test_split\n",
    "\n",
    "X_combined = df_combined_encoded.drop(columns=['h1n1_vaccine', 'seasonal_vaccine'])\n",
    "y_combined = df_combined_encoded[['h1n1_vaccine', 'seasonal_vaccine']]"
   ]
  },
  {
   "cell_type": "code",
   "execution_count": null,
   "metadata": {},
   "outputs": [],
   "source": [
    "from sklearn.feature_selection import SelectKBest, chi2\n",
    "\n",
    "k = 30\n",
    "skb = SelectKBest(score_func=chi2, k=k)\n",
    "\n",
    "X_k_best = skb.fit_transform(X_combined, y_combined)\n",
    "k_best_indices = skb.get_support(indices=True)\n",
    "k_best_features = X_combined.columns[k_best_indices].tolist()\n",
    "k_best_features"
   ]
  },
  {
   "attachments": {},
   "cell_type": "markdown",
   "metadata": {},
   "source": [
    "Feature selection with our chosen train and test dataset"
   ]
  },
  {
   "attachments": {},
   "cell_type": "markdown",
   "metadata": {},
   "source": [
    "### Models"
   ]
  },
  {
   "cell_type": "code",
   "execution_count": null,
   "metadata": {},
   "outputs": [],
   "source": [
    "# from sklearn.metrics import roc_auc_score\n",
    "# def my_custom_roc_auc_func(estimator, X, y=None):\n",
    "#     y_score = np.transpose([y_pred[:, 1] for y_pred in estimator.predict_proba(X)])\n",
    "#     return roc_auc_score(y, y_score, average='macro')"
   ]
  },
  {
   "cell_type": "code",
   "execution_count": null,
   "metadata": {},
   "outputs": [],
   "source": [
    "# from sklearn.model_selection import cross_val_score\n",
    "# def cross_validate_model(model, X, y):\n",
    "#     scores = cross_val_score(model, X, y, cv=5, scoring=my_custom_roc_auc_func)\n",
    "#     print(\"Cross-validation scores:\", scores)\n",
    "#     print(\"Mean auc:\", scores.mean())"
   ]
  },
  {
   "cell_type": "code",
   "execution_count": null,
   "metadata": {},
   "outputs": [],
   "source": [
    "X_train, X_test, y_train, y_test = train_test_split(X_k_best, y_combined, test_size=0.25, random_state=42, stratify=y_combined)\n",
    "X_train.shape, X_test.shape, y_train.shape, y_test.shape"
   ]
  },
  {
   "cell_type": "code",
   "execution_count": null,
   "metadata": {},
   "outputs": [],
   "source": [
    "# y_train['h1n1_vaccine'].value_counts(), y_train['seasonal_vaccine'].value_counts()"
   ]
  },
  {
   "attachments": {},
   "cell_type": "markdown",
   "metadata": {},
   "source": [
    "#### Random Forest"
   ]
  },
  {
   "cell_type": "code",
   "execution_count": null,
   "metadata": {},
   "outputs": [],
   "source": [
    "from sklearn.ensemble import RandomForestClassifier"
   ]
  },
  {
   "cell_type": "code",
   "execution_count": null,
   "metadata": {},
   "outputs": [],
   "source": [
    "from sklearn.model_selection import GridSearchCV\n",
    "from sklearn.metrics import roc_auc_score, make_scorer\n",
    "\n",
    "param_grid = {\n",
    "    'n_estimators': [5, 10, 20, 50, 100, 150, 200],\n",
    "    'max_depth': [None, 5, 10],\n",
    "    'min_samples_split': [2, 5, 10],\n",
    "    'min_samples_leaf': [1, 2, 4],\n",
    "    'max_features': ['auto'],\n",
    "    'random_state': [42]\n",
    "}\n",
    "\n",
    "rf_model = RandomForestClassifier()\n",
    "grid_search = GridSearchCV(rf_model, param_grid=param_grid, cv=5, scoring=my_custom_roc_auc_func)\n",
    "\n",
    "grid_search.fit(X_train, y_train)\n",
    "\n",
    "best_estimator = grid_search.best_estimator_\n",
    "best_parameters = grid_search.best_params_\n",
    "\n",
    "y_pred_proba = best_estimator.predict_proba(X_test)\n",
    "\n",
    "y_score = np.transpose([y_pred[:, 1] for y_pred in best_estimator.predict_proba(X_test)])\n",
    "y_auc = roc_auc_score(y_test, y_score, average='macro')\n",
    "\n",
    "print(\"Best Parameters:\", best_parameters)\n",
    "print(\"AUC Scores:\", y_auc)"
   ]
  },
  {
   "cell_type": "code",
   "execution_count": null,
   "metadata": {},
   "outputs": [],
   "source": [
    "# rf_model = RandomForestClassifier(**best_parameters)\n",
    "rf_model = RandomForestClassifier(max_depth=10, max_features='auto', min_samples_leaf=4, min_samples_split=10, n_estimators=200, random_state=42)\n",
    "rf_model.fit(X_train, y_train)"
   ]
  },
  {
   "cell_type": "code",
   "execution_count": null,
   "metadata": {},
   "outputs": [],
   "source": [
    "print(\"RF Model AUC on test set:\", my_custom_roc_auc_func(rf_model, X_test, y_test))"
   ]
  },
  {
   "cell_type": "code",
   "execution_count": null,
   "metadata": {},
   "outputs": [],
   "source": [
    "from sklearn.metrics import multilabel_confusion_matrix, accuracy_score, f1_score\n",
    "# Predict on the test set\n",
    "predicted_rf = rf_model.predict(X_test)\n",
    "\n",
    "# Print metrics\n",
    "print(multilabel_confusion_matrix(y_test, predicted_rf))\n",
    "print(accuracy_score(y_test, predicted_rf))\n",
    "print(f1_score(y_test, predicted_rf, average='micro'))"
   ]
  },
  {
   "cell_type": "code",
   "execution_count": null,
   "metadata": {},
   "outputs": [],
   "source": [
    "from sklearn.metrics import roc_curve, auc\n",
    "\n",
    "predict_prob = rf_model.predict_proba(X_test)\n",
    "# roc_curve(y_test, predict_prob[:, 1], pos_label=1)\n",
    "\n",
    "y_score_rf = np.transpose([y_pred[:, 1] for y_pred in rf_model.predict_proba(X_test)])\n",
    "auc_scores_rf = roc_auc_score(y_test, y_score_rf, average=None)\n",
    "auc_scores_rf"
   ]
  },
  {
   "cell_type": "code",
   "execution_count": null,
   "metadata": {},
   "outputs": [],
   "source": [
    "fig, ax = plt.subplots(1, 2, figsize=(10, 5))\n",
    "fpr, tpr, thresholds = roc_curve(y_test['h1n1_vaccine'], y_score_rf[:, 0])\n",
    "fig.suptitle('Random Forest Receiver Operating Characteristic Curves')\n",
    "ax[0].plot(fpr, tpr, label='H1N1 (AUC = {:.4f})'.format(auc_scores_rf[0]))\n",
    "ax[0].plot([0, 1], [0, 1], linestyle='--')\n",
    "ax[0].set_ylabel('True Positive Rate')\n",
    "ax[0].set_xlabel('False Positive Rate')\n",
    "ax[0].set_title('H1N1')\n",
    "ax[0].legend(loc='lower right')\n",
    "\n",
    "fpr, tpr, thresholds = roc_curve(y_test['seasonal_vaccine'], y_score_rf[:, 1])\n",
    "ax[1].plot(fpr, tpr, label='Seasonal (AUC = {:.4f})'.format(auc_scores_rf[1]))\n",
    "ax[1].plot([0, 1], [0, 1], linestyle='--')\n",
    "ax[1].set_ylabel('True Positive Rate')\n",
    "ax[1].set_xlabel('False Positive Rate')\n",
    "ax[1].set_title('Seasonal')\n",
    "ax[1].legend(loc='lower right')"
   ]
  },
  {
   "cell_type": "code",
   "execution_count": null,
   "metadata": {},
   "outputs": [],
   "source": [
    "cross_validate_model(rf_model, X_train, y_train)"
   ]
  },
  {
   "attachments": {},
   "cell_type": "markdown",
   "metadata": {},
   "source": [
    "Performing Random forest model with hyperparameter tuning. Outputing the ROC-AUC score curves for both vaccines"
   ]
  },
  {
   "attachments": {},
   "cell_type": "markdown",
   "metadata": {},
   "source": [
    "#### Naive Bayes"
   ]
  },
  {
   "cell_type": "code",
   "execution_count": null,
   "metadata": {},
   "outputs": [],
   "source": [
    "from sklearn.multioutput import MultiOutputClassifier\n",
    "from sklearn.naive_bayes import CategoricalNB\n",
    "\n",
    "param_grid_nb = {\n",
    "    'estimator__alpha': [0.1, 1.0, 10.0],\n",
    "    'estimator__fit_prior': [True, False]\n",
    "}\n",
    "\n",
    "nb_model = CategoricalNB()\n",
    "grid_search_nb = GridSearchCV(MultiOutputClassifier(nb_model), param_grid=param_grid_nb, cv=5, scoring=my_custom_roc_auc_func)\n",
    "\n",
    "grid_search_nb.fit(X_train, y_train)\n",
    "\n",
    "best_estimator_nb = grid_search_nb.best_estimator_\n",
    "best_parameters_nb = grid_search_nb.best_params_\n",
    "\n",
    "y_pred_proba_nb = best_estimator_nb.predict_proba(X_test)\n",
    "\n",
    "y_score_nb = np.transpose([y_pred[:, 1] for y_pred in best_estimator_nb.predict_proba(X_test)])\n",
    "y_auc_nb = roc_auc_score(y_test, y_score_nb, average='macro')\n",
    "\n",
    "print(\"Best Parameters:\", best_parameters_nb)\n",
    "print(\"AUC Scores:\", y_auc_nb)"
   ]
  },
  {
   "cell_type": "code",
   "execution_count": null,
   "metadata": {},
   "outputs": [],
   "source": [
    "nb_model = CategoricalNB()\n",
    "nb_model = MultiOutputClassifier(nb_model)\n",
    "nb_model.fit(X_train, y_train)"
   ]
  },
  {
   "cell_type": "code",
   "execution_count": null,
   "metadata": {},
   "outputs": [],
   "source": [
    "print(\"RF Model AUC on test set:\", my_custom_roc_auc_func(nb_model, X_test, y_test))"
   ]
  },
  {
   "cell_type": "code",
   "execution_count": null,
   "metadata": {},
   "outputs": [],
   "source": [
    "from sklearn.metrics import multilabel_confusion_matrix, accuracy_score, f1_score\n",
    "# Predict on the test set\n",
    "predicted_nb = nb_model.predict(X_test)\n",
    "\n",
    "# Print metrics\n",
    "print(multilabel_confusion_matrix(y_test, predicted_nb))\n",
    "print(accuracy_score(y_test, predicted_nb))\n",
    "print(f1_score(y_test, predicted_nb, average='micro'))"
   ]
  },
  {
   "cell_type": "code",
   "execution_count": null,
   "metadata": {},
   "outputs": [],
   "source": [
    "from sklearn.metrics import roc_curve, auc\n",
    "\n",
    "predict_prob = nb_model.predict_proba(X_test)\n",
    "# roc_curve(y_test, predict_prob[:, 1], pos_label=1)\n",
    "\n",
    "y_score_nb = np.transpose([y_pred[:, 1] for y_pred in nb_model.predict_proba(X_test)])\n",
    "auc_scores_nb = roc_auc_score(y_test, y_score_nb, average=None)\n",
    "auc_scores_nb"
   ]
  },
  {
   "cell_type": "code",
   "execution_count": null,
   "metadata": {},
   "outputs": [],
   "source": [
    "fig, ax = plt.subplots(1, 2, figsize=(10, 5))\n",
    "fig.suptitle('Naïve Bayes Receiver Operating Characteristic Curves')\n",
    "fpr, tpr, thresholds = roc_curve(y_test['h1n1_vaccine'], y_score_nb[:, 0])\n",
    "ax[0].plot(fpr, tpr, label='H1N1 (AUC = {:.4f})'.format(auc_scores_nb[0]))\n",
    "ax[0].plot([0, 1], [0, 1], linestyle='--')\n",
    "ax[0].set_ylabel('True Positive Rate')\n",
    "ax[0].set_xlabel('False Positive Rate')\n",
    "ax[0].set_title('H1N1')\n",
    "ax[0].legend(loc='lower right')\n",
    "\n",
    "fpr, tpr, thresholds = roc_curve(y_test['seasonal_vaccine'], y_score_nb[:, 1])\n",
    "ax[1].plot(fpr, tpr, label='Seasonal (AUC = {:.4f})'.format(auc_scores_nb[1]))\n",
    "ax[1].plot([0, 1], [0, 1], linestyle='--')\n",
    "ax[1].set_ylabel('True Positive Rate')\n",
    "ax[1].set_xlabel('False Positive Rate')\n",
    "ax[1].set_title('Seasonal')\n",
    "ax[1].legend(loc='lower right')"
   ]
  },
  {
   "cell_type": "code",
   "execution_count": null,
   "metadata": {},
   "outputs": [],
   "source": [
    "cross_validate_model(nb_model, X_train, y_train)"
   ]
  },
  {
   "attachments": {},
   "cell_type": "markdown",
   "metadata": {},
   "source": [
    "Trained a Naïve Bayes model , with hyperparameter tuning. Calculated the ROC-AUC socres and plotted them for both vaccines"
   ]
  },
  {
   "attachments": {},
   "cell_type": "markdown",
   "metadata": {},
   "source": [
    "### Submission Format Code/ This was submitted to the competition webpage of the obtained dataset"
   ]
  },
  {
   "cell_type": "code",
   "execution_count": null,
   "metadata": {},
   "outputs": [],
   "source": [
    "df_test_set_features = pd.read_csv('test_set_features.csv', index_col='respondent_id')\n",
    "# df_test_set_features.isnull().any()\n",
    "\n",
    "\n",
    "imputer = SimpleImputer(strategy='most_frequent')\n",
    "df_test_set_features = pd.DataFrame(imputer.fit_transform(df_test_set_features), columns=df_test_set_features.columns)\n",
    "\n",
    "oh_encoder = OneHotEncoder()\n",
    "\n",
    "cols = ['age_group', 'education', 'race', 'sex', 'income_poverty', 'marital_status', 'rent_or_own', 'employment_status', 'hhs_geo_region', 'census_msa', 'employment_industry', 'employment_occupation']\n",
    "df_test_set_encoded = oh_encoder.fit_transform(df_test_set_features[cols]).toarray()\n",
    "df_test_set_encoded = pd.DataFrame(df_test_set_encoded, columns=oh_encoder.get_feature_names_out(cols))\n",
    "df_test_set_encoded = pd.concat([df_test_set_features.drop(columns=cols), df_test_set_encoded], axis=1)\n",
    "df_test_set_encoded\n",
    "\n",
    "df_test_set_encoded[k_best_features]\n",
    "\n",
    "df_test_set_encoded\n",
    "\n",
    "test_set_prob = rf_model.predict_proba(df_test_set_encoded[k_best_features])\n",
    "test_set_prob_h1n1 = test_set_prob[0]\n",
    "test_set_prob_seasonal = test_set_prob[1]"
   ]
  },
  {
   "cell_type": "code",
   "execution_count": null,
   "metadata": {},
   "outputs": [],
   "source": [
    "# df_submission = pd.DataFrame(test_set_prob_h1n1[:, 1], columns=['h1n1_vaccine'])\n",
    "# df_submission = pd.concat([df_submission, pd.DataFrame(test_set_prob_seasonal[:, 1], columns=['seasonal_vaccine'])], axis=1)\n",
    "# df_submission.index += 26707\n",
    "# df_submission.index.name = 'respondent_id'\n",
    "# df_submission.to_csv('rf_best_probs.csv')"
   ]
  },
  {
   "cell_type": "code",
   "execution_count": null,
   "metadata": {},
   "outputs": [],
   "source": [
    "test_set_prob_h1n1"
   ]
  },
  {
   "cell_type": "code",
   "execution_count": null,
   "metadata": {},
   "outputs": [],
   "source": [
    "df_test_set_features = pd.read_csv('test_set_features.csv', index_col='respondent_id')\n",
    "# df_test_set_features.isnull().any()\n",
    "\n",
    "\n",
    "# imputer = SimpleImputer(strategy='most_frequent')\n",
    "# df_test_set_features = pd.DataFrame(imputer.fit_transform(df_test_set_features), columns=df_test_set_features.columns)\n",
    "\n",
    "label_encoder = LabelEncoder() \n",
    "\n",
    "cols = ['age_group', 'education', 'race', 'sex', 'income_poverty', 'marital_status', 'rent_or_own', 'employment_status', 'hhs_geo_region', 'census_msa', 'employment_industry', 'employment_occupation']\n",
    "df_test_set_encoded_le = df_test_set_features.copy()\n",
    "\n",
    "df_test_set_encoded_le['age_group'] = le.fit_transform(df_test_set_features['age_group'])\n",
    "df_test_set_encoded_le['race'] = le.fit_transform(df_test_set_features['race'])\n",
    "df_test_set_encoded_le['sex'] = le.fit_transform(df_test_set_features['sex'])\n",
    "df_test_set_encoded_le['education'] = le.fit_transform(df_test_set_features['education'])\n",
    "df_test_set_encoded_le['income_poverty'] = le.fit_transform(df_test_set_features['income_poverty'])\n",
    "df_test_set_encoded_le['marital_status'] = le.fit_transform(df_test_set_features['marital_status'])\n",
    "df_test_set_encoded_le['rent_or_own'] = le.fit_transform(df_test_set_features['rent_or_own'])\n",
    "df_test_set_encoded_le['employment_status'] = le.fit_transform(df_test_set_features['employment_status'])\n",
    "df_test_set_encoded_le['hhs_geo_region'] = le.fit_transform(df_test_set_features['hhs_geo_region'])\n",
    "df_test_set_encoded_le['census_msa'] = le.fit_transform(df_test_set_features['census_msa'])\n",
    "\n",
    "# df_test_set_encoded = pd.DataFrame(df_test_set_encoded, columns=label_encoder.get_feature_names_out(cols))\n",
    "# df_test_set_encoded = pd.concat([df_test_set_features.drop(columns=cols), df_test_set_encoded], axis=1)\n",
    "\n",
    "k_best_features_test = ['h1n1_concern',\n",
    " 'h1n1_knowledge',\n",
    " 'behavioral_face_mask',\n",
    " 'doctor_recc_h1n1',\n",
    " 'doctor_recc_seasonal',\n",
    " 'chronic_med_condition',\n",
    " 'health_worker',\n",
    " 'opinion_h1n1_vacc_effective',\n",
    " 'opinion_h1n1_risk',\n",
    " 'opinion_h1n1_sick_from_vacc',\n",
    " 'opinion_seas_vacc_effective',\n",
    " 'opinion_seas_risk',\n",
    " 'age_group',\n",
    " 'rent_or_own',\n",
    " 'household_children']\n",
    "\n",
    "df_test_set_encoded_le[k_best_features_test]\n",
    "\n",
    "imputer = SimpleImputer(strategy='most_frequent')\n",
    "df_test_set_encoded_le = pd.DataFrame(imputer.fit_transform(df_test_set_encoded_le[k_best_features_test]), columns=df_test_set_encoded_le[k_best_features_test].columns)\n",
    "\n",
    "test_set_prob_mlp = mlp_model.predict_proba(df_test_set_encoded_le[k_best_features_test])\n",
    "\n",
    "test_set_prob_mlp\n",
    "\n",
    "df_submission_mlp = pd.DataFrame(test_set_prob_mlp[:, 1], columns=['h1n1_vaccine'])\n",
    "df_submission_mlp = pd.concat([df_submission_mlp, pd.DataFrame(test_set_prob_mlp[:, 1], columns=['seasonal_vaccine'])], axis=1)\n",
    "df_submission_mlp.index += 26707\n",
    "df_submission_mlp.index.name = 'respondent_id'\n",
    "df_submission_mlp.to_csv('ann_best_probs.csv')\n",
    "# df_submission_mlp"
   ]
  }
 ],
 "metadata": {
  "kernelspec": {
   "display_name": "base",
   "language": "python",
   "name": "python3"
  },
  "language_info": {
   "codemirror_mode": {
    "name": "ipython",
    "version": 3
   },
   "file_extension": ".py",
   "mimetype": "text/x-python",
   "name": "python",
   "nbconvert_exporter": "python",
   "pygments_lexer": "ipython3",
   "version": "3.10.2"
  },
  "orig_nbformat": 4
 },
 "nbformat": 4,
 "nbformat_minor": 2
}
